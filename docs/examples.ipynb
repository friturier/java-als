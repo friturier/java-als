{
 "cells": [
  {
   "cell_type": "code",
   "execution_count": 1,
   "metadata": {},
   "outputs": [],
   "source": [
    "%%loadFromPOM\n",
    "<repository>\n",
    "    <id>bintray-ruivieira-maven</id>\n",
    "    <url>https://dl.bintray.com/ruivieira/maven</url>\n",
    "</repository>\n",
    "<dependency>\n",
    "    <groupId>org.ruivieira.ml</groupId>\n",
    "    <artifactId>als</artifactId>\n",
    "    <version>0.0.3</version>\n",
    "</dependency>"
   ]
  },
  {
   "cell_type": "code",
   "execution_count": 2,
   "metadata": {},
   "outputs": [],
   "source": [
    "import org.ruivieira.ml.als.Rating;\n",
    "\n",
    "List<Rating> ratings = new ArrayList<>();"
   ]
  },
  {
   "cell_type": "code",
   "execution_count": 3,
   "metadata": {},
   "outputs": [],
   "source": [
    "import java.io.BufferedReader;\n",
    "import java.io.FileReader;\n",
    "import java.io.IOException;\n",
    "\n",
    "\n",
    "BufferedReader reader;\n",
    "try {\n",
    "    reader = new BufferedReader(new FileReader(\"/home/jovyan/ml-latest-small/ratings.csv\"));\n",
    "    reader.readLine(); // skip header\n",
    "    String line = reader.readLine();\n",
    "    while (line != null) {\n",
    "        String[] tokens = line.split(\",\");\n",
    "        int user = Integer.parseInt(tokens[0]);\n",
    "        int item = Integer.parseInt(tokens[1]);\n",
    "        double rating = Double.parseDouble(tokens[2]);\n",
    "        ratings.add(new Rating(user, item, rating));\n",
    "        // read next line\n",
    "        line = reader.readLine();\n",
    "    }\n",
    "    reader.close();\n",
    "} catch (IOException e) {\n",
    "    e.printStackTrace();\n",
    "}"
   ]
  },
  {
   "cell_type": "code",
   "execution_count": 4,
   "metadata": {},
   "outputs": [
    {
     "name": "stdout",
     "output_type": "stream",
     "text": [
      "user: 1, item: 1, rating: 4.0\n"
     ]
    }
   ],
   "source": [
    "Rating r = ratings.get(0);\n",
    "System.out.println(\"user: \" + r.getUser() + \", item: \" + r.getItem() + \", rating: \" + r.getRating());"
   ]
  },
  {
   "cell_type": "code",
   "execution_count": 5,
   "metadata": {},
   "outputs": [],
   "source": [
    "ratings = ratings.subList(0, 1000);"
   ]
  },
  {
   "cell_type": "markdown",
   "metadata": {},
   "source": [
    "## Batch ALS"
   ]
  },
  {
   "cell_type": "code",
   "execution_count": 6,
   "metadata": {},
   "outputs": [],
   "source": [
    "import org.apache.commons.math3.linear.SparseRealMatrix;\n",
    "import org.ruivieira.ml.als.ALSUtils;\n",
    "\n",
    "SparseRealMatrix R = ALSUtils.toMatrix(ratings);"
   ]
  },
  {
   "cell_type": "code",
   "execution_count": 7,
   "metadata": {},
   "outputs": [
    {
     "name": "stdout",
     "output_type": "stream",
     "text": [
      "max user: 7\n",
      "max item: 131724\n"
     ]
    }
   ],
   "source": [
    "int maxUser = ALSUtils.maxUser(ratings);\n",
    "int maxItem = ALSUtils.maxItem(ratings);\n",
    "\n",
    "System.out.println(\"max user: \" + maxUser + \"\\nmax item: \" + maxItem);"
   ]
  },
  {
   "cell_type": "code",
   "execution_count": 9,
   "metadata": {},
   "outputs": [],
   "source": [
    "import org.ruivieira.ml.als.LatentFactors;\n",
    "\n",
    "int rank = 4;\n",
    "\n",
    "LatentFactors factors = LatentFactors.create(maxUser, maxItem, rank);"
   ]
  },
  {
   "cell_type": "code",
   "execution_count": 11,
   "metadata": {},
   "outputs": [],
   "source": [
    "import org.ruivieira.ml.als.BatchALS;\n",
    "\n",
    "BatchALS als = new BatchALS(R, rank, 0.001, 0.001);"
   ]
  },
  {
   "cell_type": "code",
   "execution_count": 12,
   "metadata": {},
   "outputs": [],
   "source": [
    "int iterations = 100;\n",
    "\n",
    "for (int i = 0 ; i < iterations ; i++) {\n",
    "    factors = als.run(factors);\n",
    "}"
   ]
  },
  {
   "cell_type": "code",
   "execution_count": 14,
   "metadata": {},
   "outputs": [],
   "source": [
    "import org.apache.commons.math3.linear.RealMatrix;\n",
    "\n",
    "RealMatrix nR = ALSUtils.approximate(factors);"
   ]
  },
  {
   "cell_type": "code",
   "execution_count": 15,
   "metadata": {},
   "outputs": [],
   "source": [
    "public double MSE(SparseRealMatrix ratings, RealMatrix predictions) {\n",
    "\n",
    "    int rows = ratings.getRowDimension();\n",
    "    int cols = ratings.getColumnDimension();\n",
    "    \n",
    "    int counter = 0;\n",
    "    double se = 0.0;\n",
    "    for (int i = 0 ; i < rows ; i++) {\n",
    "        for (int j = 0 ; j < cols ; j++) {\n",
    "            double rating = ratings.getEntry(i, j);\n",
    "            if (rating > 0d) {\n",
    "                counter++;\n",
    "                se += Math.pow(rating - predictions.getEntry(i, j), 2.0);\n",
    "            }\n",
    "        }\n",
    "    }\n",
    "    return se / (double) counter;\n",
    "}"
   ]
  },
  {
   "cell_type": "code",
   "execution_count": 16,
   "metadata": {},
   "outputs": [
    {
     "data": {
      "text/plain": [
       "0.19901400547842776"
      ]
     },
     "execution_count": 16,
     "metadata": {},
     "output_type": "execute_result"
    }
   ],
   "source": [
    "MSE(R, nR);"
   ]
  },
  {
   "cell_type": "markdown",
   "metadata": {},
   "source": [
    "## Stochastic Gradient Descent ALS"
   ]
  },
  {
   "cell_type": "code",
   "execution_count": 17,
   "metadata": {},
   "outputs": [],
   "source": [
    "import org.ruivieira.ml.als.SGDALS;\n",
    "\n",
    "SGDALS sgd_als = new SGDALS(rank);"
   ]
  },
  {
   "cell_type": "code",
   "execution_count": 18,
   "metadata": {},
   "outputs": [],
   "source": [
    "factors = LatentFactors.create(maxUser, maxItem, rank);"
   ]
  },
  {
   "cell_type": "code",
   "execution_count": 20,
   "metadata": {},
   "outputs": [],
   "source": [
    "for (Rating rating : ratings) {\n",
    "    List<Rating> _r = new ArrayList<>();\n",
    "    _r.add(rating);\n",
    "    factors = sgd_als.run(factors, _r);\n",
    "}"
   ]
  },
  {
   "cell_type": "code",
   "execution_count": 21,
   "metadata": {},
   "outputs": [],
   "source": [
    "nR = ALSUtils.approximate(factors);"
   ]
  },
  {
   "cell_type": "code",
   "execution_count": 22,
   "metadata": {},
   "outputs": [
    {
     "data": {
      "text/plain": [
       "2.093066330556519"
      ]
     },
     "execution_count": 22,
     "metadata": {},
     "output_type": "execute_result"
    }
   ],
   "source": [
    "MSE(R, nR);"
   ]
  },
  {
   "cell_type": "code",
   "execution_count": null,
   "metadata": {},
   "outputs": [],
   "source": []
  }
 ],
 "metadata": {
  "kernelspec": {
   "display_name": "Java",
   "language": "java",
   "name": "java"
  },
  "language_info": {
   "codemirror_mode": "java",
   "file_extension": ".java",
   "mimetype": "text/x-java-source",
   "name": "Java",
   "pygments_lexer": "java",
   "version": "10.0.1+10-Debian-4"
  }
 },
 "nbformat": 4,
 "nbformat_minor": 2
}
