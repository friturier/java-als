{
 "cells": [
  {
   "cell_type": "code",
   "execution_count": null,
   "metadata": {
    "collapsed": true
   },
   "outputs": [],
   "source": [
    "%%loadFromPOM\n",
    "<repository>\n",
    "    <id>bintray-ruivieira-maven</id>\n",
    "    <url>https://dl.bintray.com/ruivieira/maven</url>\n",
    "</repository>\n",
    "\n",
    "<dependency>\n",
    "    <groupId>org.ruivieira.ml</groupId>\n",
    "    <artifactId>als</artifactId>\n",
    "    <version>0.0.1</version>\n",
    "</dependency>"
   ]
  }
 ],
 "metadata": {
  "kernelspec": {
   "display_name": "Java",
   "language": "java",
   "name": "java"
  },
 "nbformat": 4,
 "nbformat_minor": 1
}
