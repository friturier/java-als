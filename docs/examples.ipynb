{
 "cells": [
  {
   "cell_type": "code",
   "execution_count": null,
   "metadata": {
    "collapsed": true
   },
   "outputs": [],
   "source": [
    "%%loadFromPOM\n",
    "<repository>\n",
    "    <id>bintray-ruivieira-maven</id>\n",
    "    <url>https://dl.bintray.com/ruivieira/maven</url>\n",
    "</repository>\n",
    "\n",
    "<dependency>\n",
    "    <groupId>org.ruivieira.ml</groupId>\n",
    "    <artifactId>als</artifactId>\n",
    "    <version>0.0.1</version>\n",
    "</dependency>"
   ]
  }
 ],
 "metadata": {
  "kernelspec": {
   "display_name": "Java",
   "language": "java",
   "name": "java"
  },
  "language_info": {
   "codemirror_mode": {
    "name": "ipython",
    "version": 2
   },
   "file_extension": ".py",
   "mimetype": "text/x-python",
   "name": "python",
   "nbconvert_exporter": "python",
   "pygments_lexer": "ipython2",
   "version": "2.7.6"
  }
 },
 "nbformat": 4,
 "nbformat_minor": 1
}
